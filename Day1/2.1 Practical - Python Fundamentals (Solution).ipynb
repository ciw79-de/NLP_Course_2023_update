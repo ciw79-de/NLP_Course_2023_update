{
 "cells": [
  {
   "cell_type": "markdown",
   "id": "79eb1b58",
   "metadata": {},
   "source": [
    "\n",
    "        read the file and store it in a list so you can access only the article (not title and subtitle)\n",
    "        set the article to lowercase\n",
    "        delete all punctuation apart from % and moneyvalues (e.g. $) \n",
    "        delete stopwords\n",
    "        store all mentions of % in a list\n",
    "        store all moneyvalues in a list\n",
    "        store all mentions of years in a list (e.g. 1999, 2001)\n",
    "        store all digits in a list (note: not years!) \n"
   ]
  },
  {
   "cell_type": "code",
   "execution_count": 49,
   "id": "f6b48219",
   "metadata": {},
   "outputs": [],
   "source": [
    "import string \n",
    "\n",
    "\n",
    "# 7. need a function to check whether it is a year\n",
    "\n",
    "def is_year(number):\n",
    "    if not number.isdigit():\n",
    "        return False\n",
    "    \n",
    "    if len(number) == 4 and (number[0:2] == \"19\" or number[0:2] == \"20\"):\n",
    "        return True\n",
    "    else:\n",
    "        return False\n",
    "\n",
    "def solution():\n",
    "    #1. read in article and store in list\n",
    "    news_article = open(\"news_article.txt\", \"r\")  \n",
    "\n",
    "    news_article_list = []\n",
    "\n",
    "    for line in news_article:\n",
    "        news_article_list.append(line)\n",
    "        \n",
    "    article_raw = news_article_list[-1] #[2]\n",
    "    \n",
    "    #2 set it to lower\n",
    "    article_raw = article_raw.lower()\n",
    "    \n",
    "    #3. delete all punctuation apart from money values (e.g. $) and %\n",
    "    # Storing the sets of punctuation in variable result \n",
    "    punct = string.punctuation \n",
    "    \n",
    "    punct_set = {i for i in punct if i != \"%\" and i != \"$\"}\n",
    "    \n",
    "    article_clean = []\n",
    "\n",
    "    for letter in article_raw:\n",
    "        if letter not in punct_set:\n",
    "            article_clean.append(letter)\n",
    "    \n",
    "    article_clean = \"\".join(article_clean).split()\n",
    "                    \n",
    "    #4. deleting stopwords\n",
    "    stopword_file = open(\"stopword_file.txt\", \"r\") \n",
    "    \n",
    "    stop_words = set()\n",
    "    for line in stopword_file:\n",
    "        stop_words.add(line.strip())\n",
    "        \n",
    "    article_clean = [word for word in article_clean if word not in stop_words]\n",
    "    \n",
    "        \n",
    "    #5. get percentages\n",
    "    percentages = []\n",
    "\n",
    "    for word in article_clean:\n",
    "        if word[-1] == \"%\":\n",
    "            percentages.append(word)\n",
    "            \n",
    "    print(percentages)\n",
    "        \n",
    "    \n",
    "    #6. get moneyvalues\n",
    "    moneyvalues = []\n",
    "\n",
    "    for word in article_clean:\n",
    "        if word[-1] == \"$\" or word[0] == \"£\":\n",
    "            moneyvalues.append(word)\n",
    "            \n",
    "    print(moneyvalues)\n",
    "            \n",
    "    years = []\n",
    "\n",
    "    for word in article_clean:\n",
    "        if is_year(word) == True:\n",
    "            years.append(word)\n",
    "            \n",
    "    \n",
    "    print(years)\n",
    "            \n",
    "            \n",
    "    # 8. digits\n",
    "    digits = []\n",
    "\n",
    "    for word in article_clean:\n",
    "        if word.isdigit() and is_year(word) == False:\n",
    "            digits.append(word)\n",
    "            \n",
    "    print(digits)\n",
    "    \n",
    "    \n",
    "    print(\" \".join(article_clean))"
   ]
  },
  {
   "cell_type": "code",
   "execution_count": 50,
   "id": "7eec8978",
   "metadata": {},
   "outputs": [
    {
     "name": "stdout",
     "output_type": "stream",
     "text": [
      "['10%', '15%', '25%', '25%', '22%', '12%', '46%', '31%']\n",
      "['80$']\n",
      "['2004', '2004', '2004']\n",
      "['54']\n",
      "virgin blue profits tax year march 10% 15% lower previous year sluggish demand reported previously november december 2004 continues virgin blue chief executive brett godfrey turned 54 earlier year virgin blue 25% owned richard branson struggling fend pressure rival jetstar cut full year passenger number forecast approximately 25% virgin blue reported 22% fall quarter profits august 2004 due tough competition november half profits due slack demand rising fuel costs oil 80$ barrel virgin blue launched years ago roughly australias domestic airline market national carrier qantas fought back budget airline jetstar skies 2004 sydneylisted virgin blues shares recovered slightly close 12% wednesday shares major shareholder patrick corporation owns 46% virgin blue dropped 31% close\n"
     ]
    }
   ],
   "source": [
    "solution()"
   ]
  },
  {
   "cell_type": "code",
   "execution_count": null,
   "id": "43ce31b6",
   "metadata": {},
   "outputs": [],
   "source": []
  },
  {
   "cell_type": "code",
   "execution_count": 26,
   "id": "4643d74f",
   "metadata": {},
   "outputs": [
    {
     "data": {
      "text/plain": [
       "'\\npunct_set = set()\\n\\nfor i in punct:\\n    if i != \"%\" and i != \"$\":\\n        punct_set.add(i)\\n\\n'"
      ]
     },
     "execution_count": 26,
     "metadata": {},
     "output_type": "execute_result"
    }
   ],
   "source": [
    "punct_set = {i for i in punct if i != \"%\" and i != \"$\"}\n",
    "\n",
    "\n",
    "#note: the code above is the same as\n",
    "\"\"\"\n",
    "punct_set = set()\n",
    "\n",
    "for i in punct:\n",
    "    if i != \"%\" and i != \"$\":\n",
    "        punct_set.add(i)\n",
    "        \n",
    "\n",
    "\"\"\""
   ]
  },
  {
   "cell_type": "code",
   "execution_count": 28,
   "id": "e388107e",
   "metadata": {},
   "outputs": [],
   "source": [
    "#another approach\n",
    "\n",
    "exclude = [\"%\", \"$\", \"€\", \"£\"]  #better because we can add more stuff\n",
    "punct_set = {i for i in punct if i not in exclude}"
   ]
  },
  {
   "cell_type": "code",
   "execution_count": null,
   "id": "5ef024c5",
   "metadata": {},
   "outputs": [],
   "source": [
    "\"\"\"\n",
    "article_clean = []\n",
    "for word in article_clean_str.split():\n",
    "    if word not in stop_words:\n",
    "        article_clean.append(word)\n",
    "\"\"\""
   ]
  },
  {
   "cell_type": "code",
   "execution_count": null,
   "id": "59d9c92a",
   "metadata": {},
   "outputs": [],
   "source": []
  }
 ],
 "metadata": {
  "kernelspec": {
   "display_name": "Python 3 (ipykernel)",
   "language": "python",
   "name": "python3"
  },
  "language_info": {
   "codemirror_mode": {
    "name": "ipython",
    "version": 3
   },
   "file_extension": ".py",
   "mimetype": "text/x-python",
   "name": "python",
   "nbconvert_exporter": "python",
   "pygments_lexer": "ipython3",
   "version": "3.10.8"
  }
 },
 "nbformat": 4,
 "nbformat_minor": 5
}
